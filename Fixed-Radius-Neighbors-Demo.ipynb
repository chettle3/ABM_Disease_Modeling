{
 "cells": [
  {
   "cell_type": "code",
   "execution_count": null,
   "metadata": {},
   "outputs": [],
   "source": [
    "import numpy as np\n",
    "import matplotlib.pyplot as plt\n",
    "from matplotlib.gridspec import GridSpec\n",
    "from matplotlib.patches import Circle\n",
    "from IPython.display import display, clear_output"
   ]
  },
  {
   "cell_type": "code",
   "execution_count": null,
   "metadata": {},
   "outputs": [],
   "source": [
    "class Environment:\n",
    "    def __init__(self, shape):\n",
    "        self.shape = shape\n",
    "        self.people = []\n",
    "        self.time = 0\n",
    "        self.all_locs = None\n",
    "        self.radius = 10\n",
    "\n",
    "    def add_person(self):\n",
    "        self.people.append(Person(self))\n",
    "        \n",
    "    def get_rand_pt(self):\n",
    "        return np.random.uniform(self.shape)\n",
    "    \n",
    "    def get_all_locs(self, output=False):\n",
    "        self.all_locs = np.array([person.location for person in self.people])\n",
    "        if output: return self.all_locs\n",
    "    \n",
    "    def get_neighbors(self, person):\n",
    "        if self.all_locs is None: get_all_locs()\n",
    "        vectors = self.all_locs - person.location\n",
    "        wrapped_vectors = np.minimum(np.abs(vectors), 100-np.abs(vectors))\n",
    "        return self.all_locs[np.linalg.norm(wrapped_vectors, axis=1, ord=2) <= self.radius]\n",
    "\n",
    "    def advance_time(self):\n",
    "        self.time += 1\n",
    "        self.all_locs = None\n",
    "        \n",
    "class Person:\n",
    "    def __init__(self, environment):\n",
    "        self.environment = environment\n",
    "        self.location = environment.get_rand_pt()\n",
    "        \n",
    "    def move(self):\n",
    "        self.location = np.mod(self.location+np.random.uniform(-1, 1, 2), self.environment.shape)"
   ]
  },
  {
   "cell_type": "code",
   "execution_count": null,
   "metadata": {},
   "outputs": [],
   "source": [
    "env = Environment(np.array([100, 100]))\n",
    "\n",
    "for t in range(1000):\n",
    "    env.add_person()"
   ]
  },
  {
   "cell_type": "code",
   "execution_count": null,
   "metadata": {},
   "outputs": [],
   "source": [
    "fig = plt.figure(figsize=(10,10))\n",
    "gs = GridSpec(1,1, figure=fig)\n",
    "ax = fig.add_subplot(gs[0,0])\n",
    "ax.set_xlim(0,100)\n",
    "ax.set_ylim(0,100)\n",
    "\n",
    "center = env.people[0]\n",
    "\n",
    "while True:\n",
    "    people_plot = ax.scatter(*env.get_all_locs(True).T, c=\"k\", marker=\".\", s=3)\n",
    "    neighbors = env.get_neighbors(center)\n",
    "    center_plot = ax.add_patch(Circle(center.location, 10, color=\"blue\", alpha=.1))\n",
    "    neighbor_plot = ax.scatter(*neighbors.T, c=\"C3\", marker=\"o\", s=5)\n",
    "    clear_output(wait=True)\n",
    "    display(fig)\n",
    "    people_plot.remove()\n",
    "    neighbor_plot.remove()\n",
    "    center_plot.remove()\n",
    "    env.advance_time()\n",
    "    for person in env.people:\n",
    "        person.move()"
   ]
  },
  {
   "cell_type": "code",
   "execution_count": null,
   "metadata": {},
   "outputs": [],
   "source": []
  }
 ],
 "metadata": {
  "kernelspec": {
   "display_name": "Python 3 (ipykernel)",
   "language": "python",
   "name": "python3"
  },
  "language_info": {
   "codemirror_mode": {
    "name": "ipython",
    "version": 3
   },
   "file_extension": ".py",
   "mimetype": "text/x-python",
   "name": "python",
   "nbconvert_exporter": "python",
   "pygments_lexer": "ipython3",
   "version": "3.8.10"
  }
 },
 "nbformat": 4,
 "nbformat_minor": 4
}
